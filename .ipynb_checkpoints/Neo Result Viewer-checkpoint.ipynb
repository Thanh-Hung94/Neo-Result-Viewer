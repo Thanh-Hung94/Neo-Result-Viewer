{
 "cells": [
  {
   "cell_type": "code",
   "execution_count": 57,
   "id": "7620b49f-03bd-4241-bb44-1063a5b79539",
   "metadata": {},
   "outputs": [],
   "source": [
    "import pandas as pd\n",
    "import matplotlib.pyplot as plt"
   ]
  },
  {
   "cell_type": "code",
   "execution_count": 2,
   "id": "3e1aea09-a191-45a7-b235-801f7c441021",
   "metadata": {},
   "outputs": [],
   "source": [
    "df = pd.read_csv(\"raw_data.csv\", parse_dates=[\"InstrumentDateTime\"])"
   ]
  },
  {
   "cell_type": "code",
   "execution_count": 3,
   "id": "ded1460a-7ec1-4d8d-8af8-2e50f6d74e16",
   "metadata": {},
   "outputs": [
    {
     "data": {
      "text/html": [
       "<div>\n",
       "<style scoped>\n",
       "    .dataframe tbody tr th:only-of-type {\n",
       "        vertical-align: middle;\n",
       "    }\n",
       "\n",
       "    .dataframe tbody tr th {\n",
       "        vertical-align: top;\n",
       "    }\n",
       "\n",
       "    .dataframe thead th {\n",
       "        text-align: right;\n",
       "    }\n",
       "</style>\n",
       "<table border=\"1\" class=\"dataframe\">\n",
       "  <thead>\n",
       "    <tr style=\"text-align: right;\">\n",
       "      <th></th>\n",
       "      <th>LogID</th>\n",
       "      <th>AssayName</th>\n",
       "      <th>SampleNumber</th>\n",
       "      <th>PlateName</th>\n",
       "      <th>AssayType</th>\n",
       "      <th>Result1</th>\n",
       "      <th>Result2</th>\n",
       "      <th>Result5</th>\n",
       "      <th>Pattern1</th>\n",
       "      <th>Pattern2</th>\n",
       "      <th>RawDataValue0</th>\n",
       "      <th>CreatedDate</th>\n",
       "      <th>WellID</th>\n",
       "      <th>Tags</th>\n",
       "      <th>InstrumentDateTime</th>\n",
       "    </tr>\n",
       "  </thead>\n",
       "  <tbody>\n",
       "    <tr>\n",
       "      <th>0</th>\n",
       "      <td>1</td>\n",
       "      <td>ABOD12NC</td>\n",
       "      <td>V000120086624</td>\n",
       "      <td>UA16338742</td>\n",
       "      <td>Blood Grouping</td>\n",
       "      <td>B</td>\n",
       "      <td>+</td>\n",
       "      <td>UA163</td>\n",
       "      <td>-+++--+-</td>\n",
       "      <td>-111--4-</td>\n",
       "      <td>4.3</td>\n",
       "      <td>2020-08-08 15:36:49</td>\n",
       "      <td>A01</td>\n",
       "      <td>None</td>\n",
       "      <td>2020-08-08 15:36:23</td>\n",
       "    </tr>\n",
       "    <tr>\n",
       "      <th>1</th>\n",
       "      <td>2</td>\n",
       "      <td>ABOD12NC</td>\n",
       "      <td>V000120086623</td>\n",
       "      <td>UA16338742</td>\n",
       "      <td>Blood Grouping</td>\n",
       "      <td>B</td>\n",
       "      <td>+</td>\n",
       "      <td>UA163</td>\n",
       "      <td>-+++--+-</td>\n",
       "      <td>-111--4-</td>\n",
       "      <td>6.6</td>\n",
       "      <td>2020-08-08 15:36:49</td>\n",
       "      <td>A02</td>\n",
       "      <td>None</td>\n",
       "      <td>2020-08-08 15:36:23</td>\n",
       "    </tr>\n",
       "    <tr>\n",
       "      <th>2</th>\n",
       "      <td>3</td>\n",
       "      <td>ABOD12NC</td>\n",
       "      <td>V000120086622</td>\n",
       "      <td>UA16338742</td>\n",
       "      <td>Blood Grouping</td>\n",
       "      <td>B</td>\n",
       "      <td>+</td>\n",
       "      <td>UA163</td>\n",
       "      <td>-+++--+-</td>\n",
       "      <td>-111--4-</td>\n",
       "      <td>8.1</td>\n",
       "      <td>2020-08-08 15:36:49</td>\n",
       "      <td>A03</td>\n",
       "      <td>None</td>\n",
       "      <td>2020-08-08 15:36:23</td>\n",
       "    </tr>\n",
       "    <tr>\n",
       "      <th>3</th>\n",
       "      <td>4</td>\n",
       "      <td>ABOD12NC</td>\n",
       "      <td>V000120086621</td>\n",
       "      <td>UA16338742</td>\n",
       "      <td>Blood Grouping</td>\n",
       "      <td>AB</td>\n",
       "      <td>+</td>\n",
       "      <td>UA163</td>\n",
       "      <td>++++----</td>\n",
       "      <td>1111----</td>\n",
       "      <td>87.9</td>\n",
       "      <td>2020-08-08 15:36:49</td>\n",
       "      <td>A04</td>\n",
       "      <td>None</td>\n",
       "      <td>2020-08-08 15:36:23</td>\n",
       "    </tr>\n",
       "    <tr>\n",
       "      <th>4</th>\n",
       "      <td>5</td>\n",
       "      <td>ABOD12NC</td>\n",
       "      <td>V000120086620</td>\n",
       "      <td>UA16338742</td>\n",
       "      <td>Blood Grouping</td>\n",
       "      <td>O</td>\n",
       "      <td>Rh -</td>\n",
       "      <td>UA163</td>\n",
       "      <td>------++</td>\n",
       "      <td>------44</td>\n",
       "      <td>9.5</td>\n",
       "      <td>2020-08-08 15:36:49</td>\n",
       "      <td>A05</td>\n",
       "      <td>None</td>\n",
       "      <td>2020-08-08 15:36:23</td>\n",
       "    </tr>\n",
       "  </tbody>\n",
       "</table>\n",
       "</div>"
      ],
      "text/plain": [
       "   LogID AssayName   SampleNumber   PlateName       AssayType Result1 Result2  \\\n",
       "0      1  ABOD12NC  V000120086624  UA16338742  Blood Grouping       B       +   \n",
       "1      2  ABOD12NC  V000120086623  UA16338742  Blood Grouping       B       +   \n",
       "2      3  ABOD12NC  V000120086622  UA16338742  Blood Grouping       B       +   \n",
       "3      4  ABOD12NC  V000120086621  UA16338742  Blood Grouping      AB       +   \n",
       "4      5  ABOD12NC  V000120086620  UA16338742  Blood Grouping       O    Rh -   \n",
       "\n",
       "  Result5  Pattern1  Pattern2  RawDataValue0          CreatedDate WellID  \\\n",
       "0   UA163  -+++--+-  -111--4-            4.3  2020-08-08 15:36:49    A01   \n",
       "1   UA163  -+++--+-  -111--4-            6.6  2020-08-08 15:36:49    A02   \n",
       "2   UA163  -+++--+-  -111--4-            8.1  2020-08-08 15:36:49    A03   \n",
       "3   UA163  ++++----  1111----           87.9  2020-08-08 15:36:49    A04   \n",
       "4   UA163  ------++  ------44            9.5  2020-08-08 15:36:49    A05   \n",
       "\n",
       "   Tags  InstrumentDateTime  \n",
       "0  None 2020-08-08 15:36:23  \n",
       "1  None 2020-08-08 15:36:23  \n",
       "2  None 2020-08-08 15:36:23  \n",
       "3  None 2020-08-08 15:36:23  \n",
       "4  None 2020-08-08 15:36:23  "
      ]
     },
     "execution_count": 3,
     "metadata": {},
     "output_type": "execute_result"
    }
   ],
   "source": [
    "df.head()"
   ]
  },
  {
   "cell_type": "markdown",
   "id": "16ec5ed6-8416-45ef-8cf4-34e74ac3ea00",
   "metadata": {},
   "source": [
    "# Overview"
   ]
  },
  {
   "cell_type": "code",
   "execution_count": 4,
   "id": "46e3d912-7d1a-488f-a88a-953809277f19",
   "metadata": {},
   "outputs": [
    {
     "data": {
      "text/plain": [
       "array(['ABOD12NC', 'Pool_Cell'], dtype=object)"
      ]
     },
     "execution_count": 4,
     "metadata": {},
     "output_type": "execute_result"
    }
   ],
   "source": [
    "df[df[\"AssayName\"] == \"ABOD12NC\"]\n",
    "df[\"AssayName\"].unique()"
   ]
  },
  {
   "cell_type": "code",
   "execution_count": 5,
   "id": "177fd960-33e9-48e7-9673-38d709b37df4",
   "metadata": {},
   "outputs": [
    {
     "data": {
      "image/png": "[encoded data removed]",
      "text/plain": [
       "<Figure size 1152x648 with 1 Axes>"
      ]
     },
     "metadata": {
      "needs_background": "light"
     },
     "output_type": "display_data"
    }
   ],
   "source": [
    "abod = df[df['AssayName']=='ABOD12NC']\n",
    "abod['Result1'].value_counts().plot.bar(color=['c', 'b', 'y', 'g', 'r', 'k'], figsize=(16,9), fontsize=14, rot=0)\n",
    "plt.title(\"Blood Group Result\", fontsize=20)\n",
    "\n",
    "for index, data in enumerate(abod['Result1'].value_counts()):\n",
    "    plt.text(x=index, y=data + 100, s=f\"{data}\" , fontdict=dict(fontsize=14), ha='center')\n"
   ]
  },
  {
   "cell_type": "code",
   "execution_count": 6,
   "id": "ad77321d-1cc7-4c50-b944-08d64557e134",
   "metadata": {},
   "outputs": [
    {
     "data": {
      "image/png": "[encoded data removed]",
      "text/plain": [
       "<Figure size 648x432 with 1 Axes>"
      ]
     },
     "metadata": {
      "needs_background": "light"
     },
     "output_type": "display_data"
    }
   ],
   "source": [
    "pool_cell = df[df['AssayName']=='Pool_Cell']\n",
    "pool_cell['Result1'].value_counts().plot.bar(color=['c', 'b', 'y', 'g'], figsize=(9,6), fontsize=14, rot=45)\n",
    "\n",
    "plt.title(\"Pool Cell Result\", fontsize=20)\n",
    "\n",
    "for index, data in enumerate(pool_cell['Result1'].value_counts()):\n",
    "    plt.text(x=index, y=data + 10, s=f\"{data}\" , fontdict=dict(fontsize=14), ha='center')"
   ]
  },
  {
   "cell_type": "markdown",
   "id": "8d6c8dbb-0516-46f0-83a4-8b6261127ff8",
   "metadata": {},
   "source": [
    "# ABOD Demand"
   ]
  },
  {
   "cell_type": "markdown",
   "id": "19277d80-bebe-49c4-b181-4afb8aa2dea0",
   "metadata": {},
   "source": [
    "Pre-processing Data"
   ]
  },
  {
   "cell_type": "code",
   "execution_count": 7,
   "id": "6b6a8c7f-5846-409e-83f7-71b9f54f8fed",
   "metadata": {},
   "outputs": [
    {
     "data": {
      "text/plain": [
       "array(['B', 'AB', 'O', 'A', '*INV*', 'IND', 'IND / DP'], dtype=object)"
      ]
     },
     "execution_count": 7,
     "metadata": {},
     "output_type": "execute_result"
    }
   ],
   "source": [
    "abod[\"Result1\"].unique()"
   ]
  },
  {
   "cell_type": "code",
   "execution_count": 8,
   "id": "b0547b33-01c7-448c-87d7-5f3feba41ddf",
   "metadata": {},
   "outputs": [
    {
     "data": {
      "text/plain": [
       "array([' +', 'Rh -', '*INV*', 'IND', 'IND / DP'], dtype=object)"
      ]
     },
     "execution_count": 8,
     "metadata": {},
     "output_type": "execute_result"
    }
   ],
   "source": [
    "abod[\"Result2\"].unique()"
   ]
  },
  {
   "cell_type": "code",
   "execution_count": 9,
   "id": "fe8e65e1-1379-4553-9a37-5d22e325e41e",
   "metadata": {},
   "outputs": [],
   "source": [
    "abo_rhd_demand = abod.loc[(~df[\"Result1\"].isin([\"*INV*\", \"IND\", \"IND / DP\"])) & (~df[\"Result2\"].isin([\"*INV*\", \"IND\", \"IND / DP\"])),\n",
    "                   [\"Result1\", \"Result2\", \"InstrumentDateTime\"]]\n",
    "abo_rhd_demand.set_index(\"InstrumentDateTime\", inplace=True)"
   ]
  },
  {
   "cell_type": "code",
   "execution_count": 10,
   "id": "d6233dd2-e7a7-4c61-b272-3319eda01e3b",
   "metadata": {},
   "outputs": [],
   "source": [
    "abo_rhd_demand[\"Bloodgroup\"] = abo_rhd_demand[\"Result1\"] + abo_rhd_demand[\"Result2\"]\n",
    "abo_rhd_demand[\"Bloodgroup\"] = abo_rhd_demand[\"Bloodgroup\"].apply(lambda x: x.replace('Rh', '') if '-' in x else x)\n",
    "abo_rhd_demand[\"Bloodgroup\"] = abo_rhd_demand[\"Bloodgroup\"].apply(lambda x: \"\".join(x.split()))"
   ]
  },
  {
   "cell_type": "markdown",
   "id": "7ee275df-c819-4a39-84fe-19f4483a2a01",
   "metadata": {},
   "source": [
    "# ABOD Demand"
   ]
  },
  {
   "cell_type": "code",
   "execution_count": 39,
   "id": "0fdf5f5e-e096-48f3-b62e-fd45c4ff75d0",
   "metadata": {},
   "outputs": [],
   "source": [
    "def create_dataframe(year):\n",
    "    df = abo_rhd_demand.loc[year, \"Bloodgroup\"]\n",
    "    df_values = df.groupby(by=[df.index.month]).value_counts()\n",
    "    \n",
    "    df_data = []\n",
    "    df_dict = {}\n",
    "    for month in df.index.month.unique():\n",
    "        for index in df_values.xs(month, level=\"InstrumentDateTime\").index:\n",
    "            df_dict[index] = df_values.xs(month, level=\"InstrumentDateTime\")[index]\n",
    "        df_data.append(df_dict)\n",
    "        df_dict = {}\n",
    "        \n",
    "    data = pd.DataFrame(df_data, index=df.index.month.unique())\n",
    "    \n",
    "    return data"
   ]
  },
  {
   "cell_type": "code",
   "execution_count": 52,
   "id": "9f5f990d-2a1a-4841-bc5e-ba9cd27cb9d9",
   "metadata": {},
   "outputs": [],
   "source": [
    "# abo_rhd_demand_2020 = abo_rhd_demand.loc['2020', \"Bloodgroup\"]\n",
    "# abo_rhd_demand_2020_values = abo_rhd_demand_2020.groupby(by=[abo_rhd_demand_2020.index.month]).value_counts()\n",
    "\n",
    "# abo_rhd_demand_2020_data = []\n",
    "# abo_rhd_demand_2020_dict = {}\n",
    "# for month in abo_rhd_demand_2020.index.month.unique():\n",
    "#     for index in abo_rhd_demand_2020_values.xs(month, level=\"InstrumentDateTime\").index:\n",
    "#         abo_rhd_demand_2020_dict[index] = abo_rhd_demand_2020_values.xs(month, level=\"InstrumentDateTime\")[index]\n",
    "#     abo_rhd_demand_2020_data.append(abo_rhd_demand_2020_dict)\n",
    "#     abo_rhd_demand_2020_dict = {}\n",
    "\n",
    "# df_abo_rhd_demand_2020 = pd.DataFrame(abo_rhd_demand_2020_data, index=abo_rhd_demand_2020.index.month.unique())"
   ]
  },
  {
   "cell_type": "code",
   "execution_count": 55,
   "id": "9fe52f7b-c0bc-48b0-9e87-0a9540732b96",
   "metadata": {},
   "outputs": [],
   "source": [
    "abo_rhd_demand_2020 = create_dataframe('2020')\n",
    "abo_rhd_demand_2021 = create_dataframe('2021')\n",
    "abo_rhd_demand_2022 = create_dataframe('2022')"
   ]
  },
  {
   "cell_type": "code",
   "execution_count": 56,
   "id": "4f2dbac4-cd35-403f-8909-28fcc61b448c",
   "metadata": {},
   "outputs": [
    {
     "data": {
      "text/plain": [
       "<AxesSubplot:xlabel='InstrumentDateTime'>"
      ]
     },
     "execution_count": 56,
     "metadata": {},
     "output_type": "execute_result"
    },
    {
     "data": {
      "image/png": "[encoded data removed]",
      "text/plain": [
       "<Figure size 1152x648 with 1 Axes>"
      ]
     },
     "metadata": {
      "needs_background": "light"
     },
     "output_type": "display_data"
    },
    {
     "data": {
      "image/png": "[encoded data removed]",
      "text/plain": [
       "<Figure size 1152x648 with 1 Axes>"
      ]
     },
     "metadata": {
      "needs_background": "light"
     },
     "output_type": "display_data"
    }
   ],
   "source": [
    "df_abo_rhd_demand_2020.loc[:, \"O+\":\"AB+\"].plot.bar(figsize=(16,9), stacked=False)\n",
    "df_abo_rhd_demand_2020.loc[:, \"O-\":\"AB-\"].plot.bar(figsize=(16,9))"
   ]
  },
  {
   "cell_type": "code",
   "execution_count": 50,
   "id": "145bf4a1-2648-4029-a0e3-e63bb2ec5d2f",
   "metadata": {},
   "outputs": [
    {
     "data": {
      "text/html": [
       "<div>\n",
       "<style scoped>\n",
       "    .dataframe tbody tr th:only-of-type {\n",
       "        vertical-align: middle;\n",
       "    }\n",
       "\n",
       "    .dataframe tbody tr th {\n",
       "        vertical-align: top;\n",
       "    }\n",
       "\n",
       "    .dataframe thead th {\n",
       "        text-align: right;\n",
       "    }\n",
       "</style>\n",
       "<table border=\"1\" class=\"dataframe\">\n",
       "  <thead>\n",
       "    <tr style=\"text-align: right;\">\n",
       "      <th></th>\n",
       "      <th>O+</th>\n",
       "      <th>B+</th>\n",
       "      <th>A+</th>\n",
       "      <th>AB+</th>\n",
       "      <th>O-</th>\n",
       "      <th>A-</th>\n",
       "      <th>B-</th>\n",
       "      <th>AB-</th>\n",
       "    </tr>\n",
       "    <tr>\n",
       "      <th>InstrumentDateTime</th>\n",
       "      <th></th>\n",
       "      <th></th>\n",
       "      <th></th>\n",
       "      <th></th>\n",
       "      <th></th>\n",
       "      <th></th>\n",
       "      <th></th>\n",
       "      <th></th>\n",
       "    </tr>\n",
       "  </thead>\n",
       "  <tbody>\n",
       "    <tr>\n",
       "      <th>1</th>\n",
       "      <td>2233</td>\n",
       "      <td>1500</td>\n",
       "      <td>1113</td>\n",
       "      <td>269</td>\n",
       "      <td>18</td>\n",
       "      <td>5</td>\n",
       "      <td>5.0</td>\n",
       "      <td>2.0</td>\n",
       "    </tr>\n",
       "    <tr>\n",
       "      <th>2</th>\n",
       "      <td>1898</td>\n",
       "      <td>1349</td>\n",
       "      <td>909</td>\n",
       "      <td>254</td>\n",
       "      <td>6</td>\n",
       "      <td>2</td>\n",
       "      <td>NaN</td>\n",
       "      <td>2.0</td>\n",
       "    </tr>\n",
       "    <tr>\n",
       "      <th>3</th>\n",
       "      <td>2688</td>\n",
       "      <td>1775</td>\n",
       "      <td>1235</td>\n",
       "      <td>346</td>\n",
       "      <td>10</td>\n",
       "      <td>4</td>\n",
       "      <td>6.0</td>\n",
       "      <td>NaN</td>\n",
       "    </tr>\n",
       "    <tr>\n",
       "      <th>4</th>\n",
       "      <td>3072</td>\n",
       "      <td>2174</td>\n",
       "      <td>1514</td>\n",
       "      <td>409</td>\n",
       "      <td>19</td>\n",
       "      <td>11</td>\n",
       "      <td>9.0</td>\n",
       "      <td>NaN</td>\n",
       "    </tr>\n",
       "    <tr>\n",
       "      <th>5</th>\n",
       "      <td>2187</td>\n",
       "      <td>1457</td>\n",
       "      <td>1027</td>\n",
       "      <td>305</td>\n",
       "      <td>7</td>\n",
       "      <td>8</td>\n",
       "      <td>2.0</td>\n",
       "      <td>1.0</td>\n",
       "    </tr>\n",
       "    <tr>\n",
       "      <th>6</th>\n",
       "      <td>3000</td>\n",
       "      <td>2069</td>\n",
       "      <td>1393</td>\n",
       "      <td>384</td>\n",
       "      <td>12</td>\n",
       "      <td>5</td>\n",
       "      <td>6.0</td>\n",
       "      <td>1.0</td>\n",
       "    </tr>\n",
       "    <tr>\n",
       "      <th>7</th>\n",
       "      <td>1932</td>\n",
       "      <td>1409</td>\n",
       "      <td>977</td>\n",
       "      <td>297</td>\n",
       "      <td>3</td>\n",
       "      <td>1</td>\n",
       "      <td>1.0</td>\n",
       "      <td>1.0</td>\n",
       "    </tr>\n",
       "    <tr>\n",
       "      <th>8</th>\n",
       "      <td>2176</td>\n",
       "      <td>1550</td>\n",
       "      <td>1071</td>\n",
       "      <td>286</td>\n",
       "      <td>15</td>\n",
       "      <td>6</td>\n",
       "      <td>8.0</td>\n",
       "      <td>1.0</td>\n",
       "    </tr>\n",
       "    <tr>\n",
       "      <th>9</th>\n",
       "      <td>2897</td>\n",
       "      <td>2073</td>\n",
       "      <td>1393</td>\n",
       "      <td>376</td>\n",
       "      <td>11</td>\n",
       "      <td>9</td>\n",
       "      <td>7.0</td>\n",
       "      <td>NaN</td>\n",
       "    </tr>\n",
       "    <tr>\n",
       "      <th>10</th>\n",
       "      <td>2774</td>\n",
       "      <td>1914</td>\n",
       "      <td>1309</td>\n",
       "      <td>353</td>\n",
       "      <td>10</td>\n",
       "      <td>3</td>\n",
       "      <td>8.0</td>\n",
       "      <td>1.0</td>\n",
       "    </tr>\n",
       "    <tr>\n",
       "      <th>11</th>\n",
       "      <td>2604</td>\n",
       "      <td>1909</td>\n",
       "      <td>1289</td>\n",
       "      <td>309</td>\n",
       "      <td>11</td>\n",
       "      <td>1</td>\n",
       "      <td>4.0</td>\n",
       "      <td>NaN</td>\n",
       "    </tr>\n",
       "    <tr>\n",
       "      <th>12</th>\n",
       "      <td>2954</td>\n",
       "      <td>2019</td>\n",
       "      <td>1390</td>\n",
       "      <td>369</td>\n",
       "      <td>10</td>\n",
       "      <td>3</td>\n",
       "      <td>1.0</td>\n",
       "      <td>1.0</td>\n",
       "    </tr>\n",
       "  </tbody>\n",
       "</table>\n",
       "</div>"
      ],
      "text/plain": [
       "                      O+    B+    A+  AB+  O-  A-   B-  AB-\n",
       "InstrumentDateTime                                         \n",
       "1                   2233  1500  1113  269  18   5  5.0  2.0\n",
       "2                   1898  1349   909  254   6   2  NaN  2.0\n",
       "3                   2688  1775  1235  346  10   4  6.0  NaN\n",
       "4                   3072  2174  1514  409  19  11  9.0  NaN\n",
       "5                   2187  1457  1027  305   7   8  2.0  1.0\n",
       "6                   3000  2069  1393  384  12   5  6.0  1.0\n",
       "7                   1932  1409   977  297   3   1  1.0  1.0\n",
       "8                   2176  1550  1071  286  15   6  8.0  1.0\n",
       "9                   2897  2073  1393  376  11   9  7.0  NaN\n",
       "10                  2774  1914  1309  353  10   3  8.0  1.0\n",
       "11                  2604  1909  1289  309  11   1  4.0  NaN\n",
       "12                  2954  2019  1390  369  10   3  1.0  1.0"
      ]
     },
     "execution_count": 50,
     "metadata": {},
     "output_type": "execute_result"
    }
   ],
   "source": [
    "# Initialise the subplot function using number of rows and columns\n",
    "fig, ax = plt.subplots(2, 2)\n",
    "\n",
    "# For 2020\n",
    "axis[0, 0].plot(X, Y1)\n",
    "axis[0, 0].set_title(\"Sine Function\")"
   ]
  },
  {
   "cell_type": "code",
   "execution_count": null,
   "id": "b50b3199-5bcf-4390-bff3-87d071bab78a",
   "metadata": {},
   "outputs": [],
   "source": []
  }
 ],
 "metadata": {
  "kernelspec": {
   "display_name": "Python 3 (ipykernel)",
   "language": "python",
   "name": "python3"
  },
  "language_info": {
   "codemirror_mode": {
    "name": "ipython",
    "version": 3
   },
   "file_extension": ".py",
   "mimetype": "text/x-python",
   "name": "python",
   "nbconvert_exporter": "python",
   "pygments_lexer": "ipython3",
   "version": "3.10.4"
  }
 },
 "nbformat": 4,
 "nbformat_minor": 5
}
