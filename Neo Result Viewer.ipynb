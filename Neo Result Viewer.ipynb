{
 "cells": [
  {
   "cell_type": "code",
   "execution_count": 1,
   "id": "7620b49f-03bd-4241-bb44-1063a5b79539",
   "metadata": {},
   "outputs": [],
   "source": [
    "import pandas as pd\n",
    "import matplotlib.pyplot as plt"
   ]
  },
  {
   "cell_type": "code",
   "execution_count": 2,
   "id": "3e1aea09-a191-45a7-b235-801f7c441021",
   "metadata": {},
   "outputs": [],
   "source": [
    "df = pd.read_csv(\"raw_data.csv\", parse_dates=[\"InstrumentDateTime\"])"
   ]
  },
  {
   "cell_type": "code",
   "execution_count": 3,
   "id": "ded1460a-7ec1-4d8d-8af8-2e50f6d74e16",
   "metadata": {},
   "outputs": [
    {
     "data": {
      "text/html": [
       "<div>\n",
       "<style scoped>\n",
       "    .dataframe tbody tr th:only-of-type {\n",
       "        vertical-align: middle;\n",
       "    }\n",
       "\n",
       "    .dataframe tbody tr th {\n",
       "        vertical-align: top;\n",
       "    }\n",
       "\n",
       "    .dataframe thead th {\n",
       "        text-align: right;\n",
       "    }\n",
       "</style>\n",
       "<table border=\"1\" class=\"dataframe\">\n",
       "  <thead>\n",
       "    <tr style=\"text-align: right;\">\n",
       "      <th></th>\n",
       "      <th>LogID</th>\n",
       "      <th>AssayName</th>\n",
       "      <th>SampleNumber</th>\n",
       "      <th>PlateName</th>\n",
       "      <th>AssayType</th>\n",
       "      <th>Result1</th>\n",
       "      <th>Result2</th>\n",
       "      <th>Result5</th>\n",
       "      <th>Pattern1</th>\n",
       "      <th>Pattern2</th>\n",
       "      <th>RawDataValue0</th>\n",
       "      <th>CreatedDate</th>\n",
       "      <th>WellID</th>\n",
       "      <th>Tags</th>\n",
       "      <th>InstrumentDateTime</th>\n",
       "    </tr>\n",
       "  </thead>\n",
       "  <tbody>\n",
       "    <tr>\n",
       "      <th>0</th>\n",
       "      <td>1</td>\n",
       "      <td>ABOD12NC</td>\n",
       "      <td>V000120086624</td>\n",
       "      <td>UA16338742</td>\n",
       "      <td>Blood Grouping</td>\n",
       "      <td>B</td>\n",
       "      <td>+</td>\n",
       "      <td>UA163</td>\n",
       "      <td>-+++--+-</td>\n",
       "      <td>-111--4-</td>\n",
       "      <td>4.3</td>\n",
       "      <td>2020-08-08 15:36:49</td>\n",
       "      <td>A01</td>\n",
       "      <td>None</td>\n",
       "      <td>2020-08-08 15:36:23</td>\n",
       "    </tr>\n",
       "    <tr>\n",
       "      <th>1</th>\n",
       "      <td>2</td>\n",
       "      <td>ABOD12NC</td>\n",
       "      <td>V000120086623</td>\n",
       "      <td>UA16338742</td>\n",
       "      <td>Blood Grouping</td>\n",
       "      <td>B</td>\n",
       "      <td>+</td>\n",
       "      <td>UA163</td>\n",
       "      <td>-+++--+-</td>\n",
       "      <td>-111--4-</td>\n",
       "      <td>6.6</td>\n",
       "      <td>2020-08-08 15:36:49</td>\n",
       "      <td>A02</td>\n",
       "      <td>None</td>\n",
       "      <td>2020-08-08 15:36:23</td>\n",
       "    </tr>\n",
       "    <tr>\n",
       "      <th>2</th>\n",
       "      <td>3</td>\n",
       "      <td>ABOD12NC</td>\n",
       "      <td>V000120086622</td>\n",
       "      <td>UA16338742</td>\n",
       "      <td>Blood Grouping</td>\n",
       "      <td>B</td>\n",
       "      <td>+</td>\n",
       "      <td>UA163</td>\n",
       "      <td>-+++--+-</td>\n",
       "      <td>-111--4-</td>\n",
       "      <td>8.1</td>\n",
       "      <td>2020-08-08 15:36:49</td>\n",
       "      <td>A03</td>\n",
       "      <td>None</td>\n",
       "      <td>2020-08-08 15:36:23</td>\n",
       "    </tr>\n",
       "    <tr>\n",
       "      <th>3</th>\n",
       "      <td>4</td>\n",
       "      <td>ABOD12NC</td>\n",
       "      <td>V000120086621</td>\n",
       "      <td>UA16338742</td>\n",
       "      <td>Blood Grouping</td>\n",
       "      <td>AB</td>\n",
       "      <td>+</td>\n",
       "      <td>UA163</td>\n",
       "      <td>++++----</td>\n",
       "      <td>1111----</td>\n",
       "      <td>87.9</td>\n",
       "      <td>2020-08-08 15:36:49</td>\n",
       "      <td>A04</td>\n",
       "      <td>None</td>\n",
       "      <td>2020-08-08 15:36:23</td>\n",
       "    </tr>\n",
       "    <tr>\n",
       "      <th>4</th>\n",
       "      <td>5</td>\n",
       "      <td>ABOD12NC</td>\n",
       "      <td>V000120086620</td>\n",
       "      <td>UA16338742</td>\n",
       "      <td>Blood Grouping</td>\n",
       "      <td>O</td>\n",
       "      <td>Rh -</td>\n",
       "      <td>UA163</td>\n",
       "      <td>------++</td>\n",
       "      <td>------44</td>\n",
       "      <td>9.5</td>\n",
       "      <td>2020-08-08 15:36:49</td>\n",
       "      <td>A05</td>\n",
       "      <td>None</td>\n",
       "      <td>2020-08-08 15:36:23</td>\n",
       "    </tr>\n",
       "  </tbody>\n",
       "</table>\n",
       "</div>"
      ],
      "text/plain": [
       "   LogID AssayName   SampleNumber   PlateName       AssayType Result1 Result2  \\\n",
       "0      1  ABOD12NC  V000120086624  UA16338742  Blood Grouping       B       +   \n",
       "1      2  ABOD12NC  V000120086623  UA16338742  Blood Grouping       B       +   \n",
       "2      3  ABOD12NC  V000120086622  UA16338742  Blood Grouping       B       +   \n",
       "3      4  ABOD12NC  V000120086621  UA16338742  Blood Grouping      AB       +   \n",
       "4      5  ABOD12NC  V000120086620  UA16338742  Blood Grouping       O    Rh -   \n",
       "\n",
       "  Result5  Pattern1  Pattern2  RawDataValue0          CreatedDate WellID  \\\n",
       "0   UA163  -+++--+-  -111--4-            4.3  2020-08-08 15:36:49    A01   \n",
       "1   UA163  -+++--+-  -111--4-            6.6  2020-08-08 15:36:49    A02   \n",
       "2   UA163  -+++--+-  -111--4-            8.1  2020-08-08 15:36:49    A03   \n",
       "3   UA163  ++++----  1111----           87.9  2020-08-08 15:36:49    A04   \n",
       "4   UA163  ------++  ------44            9.5  2020-08-08 15:36:49    A05   \n",
       "\n",
       "   Tags  InstrumentDateTime  \n",
       "0  None 2020-08-08 15:36:23  \n",
       "1  None 2020-08-08 15:36:23  \n",
       "2  None 2020-08-08 15:36:23  \n",
       "3  None 2020-08-08 15:36:23  \n",
       "4  None 2020-08-08 15:36:23  "
      ]
     },
     "execution_count": 3,
     "metadata": {},
     "output_type": "execute_result"
    }
   ],
   "source": [
    "df.head()"
   ]
  },
  {
   "cell_type": "markdown",
   "id": "16ec5ed6-8416-45ef-8cf4-34e74ac3ea00",
   "metadata": {},
   "source": [
    "# Overview"
   ]
  },
  {
   "cell_type": "code",
   "execution_count": 4,
   "id": "46e3d912-7d1a-488f-a88a-953809277f19",
   "metadata": {},
   "outputs": [
    {
     "data": {
      "text/plain": [
       "array(['ABOD12NC', 'Pool_Cell'], dtype=object)"
      ]
     },
     "execution_count": 4,
     "metadata": {},
     "output_type": "execute_result"
    }
   ],
   "source": [
    "# Check assays which is available on machine\n",
    "df[\"AssayName\"].unique()"
   ]
  },
  {
   "cell_type": "code",
   "execution_count": 5,
   "id": "177fd960-33e9-48e7-9673-38d709b37df4",
   "metadata": {},
   "outputs": [
    {
     "data": {
      "image/png": "[encoded data removed]",
      "text/plain": [
       "<Figure size 1152x648 with 1 Axes>"
      ]
     },
     "metadata": {
      "needs_background": "light"
     },
     "output_type": "display_data"
    }
   ],
   "source": [
    "abod = df[df['AssayName']=='ABOD12NC']\n",
    "abod['Result1'].value_counts().plot.bar(color=['c', 'b', 'y', 'g', 'r', 'k'], figsize=(16,9), fontsize=14, rot=0)\n",
    "plt.title(\"Blood Group Result\", fontsize=20)\n",
    "\n",
    "for index, data in enumerate(abod.loc['2021':'2022']['Result1'].value_counts()):\n",
    "    plt.text(x=index, y=data + 100, s=f\"{data}\" , fontdict=dict(fontsize=14), ha='center')\n"
   ]
  },
  {
   "cell_type": "code",
   "execution_count": null,
   "id": "ad77321d-1cc7-4c50-b944-08d64557e134",
   "metadata": {},
   "outputs": [],
   "source": []
  },
  {
   "cell_type": "markdown",
   "id": "19277d80-bebe-49c4-b181-4afb8aa2dea0",
   "metadata": {},
   "source": [
    "# ABOD"
   ]
  },
  {
   "cell_type": "code",
   "execution_count": 6,
   "id": "6b6a8c7f-5846-409e-83f7-71b9f54f8fed",
   "metadata": {},
   "outputs": [
    {
     "data": {
      "text/plain": [
       "array(['B', 'AB', 'O', 'A', '*INV*', 'IND', 'IND / DP'], dtype=object)"
      ]
     },
     "execution_count": 6,
     "metadata": {},
     "output_type": "execute_result"
    }
   ],
   "source": [
    "abod[\"Result1\"].unique()"
   ]
  },
  {
   "cell_type": "code",
   "execution_count": 7,
   "id": "b0547b33-01c7-448c-87d7-5f3feba41ddf",
   "metadata": {},
   "outputs": [
    {
     "data": {
      "text/plain": [
       "array([' +', 'Rh -', '*INV*', 'IND', 'IND / DP'], dtype=object)"
      ]
     },
     "execution_count": 7,
     "metadata": {},
     "output_type": "execute_result"
    }
   ],
   "source": [
    "abod[\"Result2\"].unique()"
   ]
  },
  {
   "cell_type": "code",
   "execution_count": 8,
   "id": "fe8e65e1-1379-4553-9a37-5d22e325e41e",
   "metadata": {},
   "outputs": [],
   "source": [
    "# Remove Results that is in '*INV*', 'IND', 'IND / DP'\n",
    "abo_rhd_demand = abod.loc[(~df[\"Result1\"].isin([\"*INV*\", \"IND\", \"IND / DP\"])) & (~df[\"Result2\"].isin([\"*INV*\", \"IND\", \"IND / DP\"])),\n",
    "                   [\"Result1\", \"Result2\", \"InstrumentDateTime\"]]\n",
    "abo_rhd_demand.set_index(\"InstrumentDateTime\", inplace=True)"
   ]
  },
  {
   "cell_type": "code",
   "execution_count": 9,
   "id": "d6233dd2-e7a7-4c61-b272-3319eda01e3b",
   "metadata": {},
   "outputs": [],
   "source": [
    "abo_rhd_demand[\"Bloodgroup\"] = abo_rhd_demand[\"Result1\"] + abo_rhd_demand[\"Result2\"]\n",
    "abo_rhd_demand[\"Bloodgroup\"] = abo_rhd_demand[\"Bloodgroup\"].apply(lambda x: x.replace('Rh', '') if '-' in x else x)\n",
    "abo_rhd_demand[\"Bloodgroup\"] = abo_rhd_demand[\"Bloodgroup\"].apply(lambda x: \"\".join(x.split()))"
   ]
  },
  {
   "cell_type": "code",
   "execution_count": 10,
   "id": "0fdf5f5e-e096-48f3-b62e-fd45c4ff75d0",
   "metadata": {},
   "outputs": [],
   "source": [
    "def create_dataframe_abod(year):\n",
    "    df = abo_rhd_demand.loc[year, \"Bloodgroup\"]\n",
    "    df_values = df.groupby(by=[df.index.month]).value_counts()\n",
    "    \n",
    "    df_data = []\n",
    "    df_dict = {}\n",
    "    for month in df.index.month.unique():\n",
    "        for index in df_values.xs(month, level=\"InstrumentDateTime\").index:\n",
    "            df_dict[index] = df_values.xs(month, level=\"InstrumentDateTime\")[index]\n",
    "        df_data.append(df_dict)\n",
    "        df_dict = {}\n",
    "        \n",
    "    data = pd.DataFrame(df_data, index=df.index.month.unique())\n",
    "    \n",
    "    return data"
   ]
  },
  {
   "cell_type": "code",
   "execution_count": 11,
   "id": "9fe52f7b-c0bc-48b0-9e87-0a9540732b96",
   "metadata": {},
   "outputs": [],
   "source": [
    "abo_rhd_demand_2021 = create_dataframe_abod('2021')\n",
    "abo_rhd_demand_2022 = create_dataframe_abod('2022')"
   ]
  },
  {
   "cell_type": "code",
   "execution_count": 12,
   "id": "145bf4a1-2648-4029-a0e3-e63bb2ec5d2f",
   "metadata": {},
   "outputs": [
    {
     "data": {
      "image/png": "[encoded data removed]",
      "text/plain": [
       "<Figure size 1152x864 with 2 Axes>"
      ]
     },
     "metadata": {
      "needs_background": "light"
     },
     "output_type": "display_data"
    }
   ],
   "source": [
    "color = ['red', 'orange', 'yellow', 'green']\n",
    "# Initialise the subplot function using number of rows and columns\n",
    "fig, ax = plt.subplots(2, 1, figsize=(16, 12))\n",
    "fig.suptitle(' Distribution of blood types in 2021-2022 ', fontsize=20)\n",
    "\n",
    "# abo_rhd_demand_2020.loc[:, \"O+\":\"AB+\"].plot.bar(ax=ax[0])\n",
    "# ax[0].set_title(\"2020\")\n",
    "\n",
    "abo_rhd_demand_2021.loc[:, \"O+\":\"AB+\"].plot.bar(ax=ax[0], color=color)\n",
    "ax[0].set_title(\"2021\")\n",
    "ax[0].set_xlabel(\"\")\n",
    "\n",
    "abo_rhd_demand_2022.loc[:, \"O+\":\"AB+\"].plot.bar(ax=ax[1], color=color)\n",
    "ax[1].set_title(\"2022\")\n",
    "ax[1].set_xlabel(\"\")\n",
    "\n",
    "plt.show()"
   ]
  },
  {
   "cell_type": "code",
   "execution_count": 13,
   "id": "b50b3199-5bcf-4390-bff3-87d071bab78a",
   "metadata": {},
   "outputs": [
    {
     "data": {
      "image/png": "[encoded data removed]",
      "text/plain": [
       "<Figure size 1152x864 with 2 Axes>"
      ]
     },
     "metadata": {
      "needs_background": "light"
     },
     "output_type": "display_data"
    }
   ],
   "source": [
    "color = ['cyan', 'blue', 'pink', 'purple']\n",
    "# Initialise the subplot function using number of rows and columns\n",
    "fig, ax = plt.subplots(2, 1, figsize=(16, 12))\n",
    "fig.suptitle(' Distribution of blood types in 2021-2022 (Rh-)', fontsize=20)\n",
    "\n",
    "# abo_rhd_demand_2020.loc[:, \"O+\":\"AB+\"].plot.bar(ax=ax[0])\n",
    "# ax[0].set_title(\"2020\")\n",
    "\n",
    "abo_rhd_demand_2021.loc[:, \"O-\":\"AB-\"].plot.bar(ax=ax[0], stacked=True, color=color)\n",
    "ax[0].set_title(\"2021\")\n",
    "ax[0].set_xlabel(\"\")\n",
    "\n",
    "abo_rhd_demand_2022.loc[:, \"O-\":\"AB-\"].plot.bar(ax=ax[1], stacked=True, color=color)\n",
    "ax[1].set_title(\"2022\")\n",
    "ax[1].set_xlabel(\"\")\n",
    "\n",
    "plt.show()"
   ]
  },
  {
   "cell_type": "markdown",
   "id": "41e4be34-eda4-443a-8c34-9560e617e462",
   "metadata": {},
   "source": [
    "# Poolcell"
   ]
  },
  {
   "cell_type": "code",
   "execution_count": 14,
   "id": "cce0cc62-9036-404f-b5ee-d7dfd8043d30",
   "metadata": {},
   "outputs": [
    {
     "data": {
      "image/png": "[encoded data removed]",
      "text/plain": [
       "<Figure size 648x432 with 1 Axes>"
      ]
     },
     "metadata": {
      "needs_background": "light"
     },
     "output_type": "display_data"
    }
   ],
   "source": [
    "pool_cell = df[df['AssayName']=='Pool_Cell']\n",
    "pool_cell['Result1'].value_counts().plot.bar(color=['c', 'b', 'y', 'g'], figsize=(9,6), fontsize=14, rot=45)\n",
    "\n",
    "plt.title(\"Pool Cell Result\", fontsize=20)\n",
    "\n",
    "for index, data in enumerate(pool_cell['Result1'].value_counts()):\n",
    "    plt.text(x=index, y=data + 10, s=f\"{data}\" , fontdict=dict(fontsize=14), ha='center')"
   ]
  },
  {
   "cell_type": "code",
   "execution_count": 15,
   "id": "343b4dda-76eb-468a-b8c6-6f419c5f76c4",
   "metadata": {},
   "outputs": [
    {
     "data": {
      "text/plain": [
       "array(['Negative', 'Positive', '*INV*', 'No_Int'], dtype=object)"
      ]
     },
     "execution_count": 15,
     "metadata": {},
     "output_type": "execute_result"
    }
   ],
   "source": [
    "pool_cell[\"Result1\"].unique()"
   ]
  },
  {
   "cell_type": "code",
   "execution_count": 16,
   "id": "3b61ddba-5567-4ebe-9a8e-074e1bc8dd74",
   "metadata": {},
   "outputs": [],
   "source": [
    "# Remove Results that is in '*INV*', 'IND', 'IND / DP'\n",
    "pool_cell_demand = pool_cell.loc[(df[\"Result1\"].isin(['Negative', 'Positive']))]\n",
    "pool_cell_demand.set_index(\"InstrumentDateTime\", inplace=True)"
   ]
  },
  {
   "cell_type": "code",
   "execution_count": 17,
   "id": "1185d56a-7bf5-4709-bdb1-77e77311c911",
   "metadata": {},
   "outputs": [
    {
     "data": {
      "text/html": [
       "<div>\n",
       "<style scoped>\n",
       "    .dataframe tbody tr th:only-of-type {\n",
       "        vertical-align: middle;\n",
       "    }\n",
       "\n",
       "    .dataframe tbody tr th {\n",
       "        vertical-align: top;\n",
       "    }\n",
       "\n",
       "    .dataframe thead th {\n",
       "        text-align: right;\n",
       "    }\n",
       "</style>\n",
       "<table border=\"1\" class=\"dataframe\">\n",
       "  <thead>\n",
       "    <tr style=\"text-align: right;\">\n",
       "      <th></th>\n",
       "      <th>LogID</th>\n",
       "      <th>AssayName</th>\n",
       "      <th>SampleNumber</th>\n",
       "      <th>PlateName</th>\n",
       "      <th>AssayType</th>\n",
       "      <th>Result1</th>\n",
       "      <th>Result2</th>\n",
       "      <th>Result5</th>\n",
       "      <th>Pattern1</th>\n",
       "      <th>Pattern2</th>\n",
       "      <th>RawDataValue0</th>\n",
       "      <th>CreatedDate</th>\n",
       "      <th>WellID</th>\n",
       "      <th>Tags</th>\n",
       "    </tr>\n",
       "    <tr>\n",
       "      <th>InstrumentDateTime</th>\n",
       "      <th></th>\n",
       "      <th></th>\n",
       "      <th></th>\n",
       "      <th></th>\n",
       "      <th></th>\n",
       "      <th></th>\n",
       "      <th></th>\n",
       "      <th></th>\n",
       "      <th></th>\n",
       "      <th></th>\n",
       "      <th></th>\n",
       "      <th></th>\n",
       "      <th></th>\n",
       "      <th></th>\n",
       "    </tr>\n",
       "  </thead>\n",
       "  <tbody>\n",
       "    <tr>\n",
       "      <th>2020-08-10 15:40:09</th>\n",
       "      <td>88</td>\n",
       "      <td>Pool_Cell</td>\n",
       "      <td>V000120089530</td>\n",
       "      <td>B05300593</td>\n",
       "      <td>Blood Grouping</td>\n",
       "      <td>Negative</td>\n",
       "      <td>NaN</td>\n",
       "      <td>B053</td>\n",
       "      <td>-</td>\n",
       "      <td>-</td>\n",
       "      <td>3.5</td>\n",
       "      <td>2020-08-10 15:40:29</td>\n",
       "      <td>E01</td>\n",
       "      <td>None</td>\n",
       "    </tr>\n",
       "    <tr>\n",
       "      <th>2020-08-10 15:40:09</th>\n",
       "      <td>89</td>\n",
       "      <td>Pool_Cell</td>\n",
       "      <td>V000120089531</td>\n",
       "      <td>B05300593</td>\n",
       "      <td>Blood Grouping</td>\n",
       "      <td>Negative</td>\n",
       "      <td>NaN</td>\n",
       "      <td>B053</td>\n",
       "      <td>-</td>\n",
       "      <td>-</td>\n",
       "      <td>2.7</td>\n",
       "      <td>2020-08-10 15:40:29</td>\n",
       "      <td>F01</td>\n",
       "      <td>None</td>\n",
       "    </tr>\n",
       "    <tr>\n",
       "      <th>2020-08-10 15:40:09</th>\n",
       "      <td>90</td>\n",
       "      <td>Pool_Cell</td>\n",
       "      <td>V000120089532</td>\n",
       "      <td>B05300593</td>\n",
       "      <td>Blood Grouping</td>\n",
       "      <td>Negative</td>\n",
       "      <td>NaN</td>\n",
       "      <td>B053</td>\n",
       "      <td>-</td>\n",
       "      <td>-</td>\n",
       "      <td>3.5</td>\n",
       "      <td>2020-08-10 15:40:29</td>\n",
       "      <td>G01</td>\n",
       "      <td>None</td>\n",
       "    </tr>\n",
       "    <tr>\n",
       "      <th>2020-08-10 15:40:09</th>\n",
       "      <td>91</td>\n",
       "      <td>Pool_Cell</td>\n",
       "      <td>V000120089533</td>\n",
       "      <td>B05300593</td>\n",
       "      <td>Blood Grouping</td>\n",
       "      <td>Negative</td>\n",
       "      <td>NaN</td>\n",
       "      <td>B053</td>\n",
       "      <td>-</td>\n",
       "      <td>-</td>\n",
       "      <td>2.2</td>\n",
       "      <td>2020-08-10 15:40:29</td>\n",
       "      <td>H01</td>\n",
       "      <td>None</td>\n",
       "    </tr>\n",
       "    <tr>\n",
       "      <th>2020-08-10 15:40:09</th>\n",
       "      <td>92</td>\n",
       "      <td>Pool_Cell</td>\n",
       "      <td>V000120089534</td>\n",
       "      <td>B05300593</td>\n",
       "      <td>Blood Grouping</td>\n",
       "      <td>Negative</td>\n",
       "      <td>NaN</td>\n",
       "      <td>B053</td>\n",
       "      <td>-</td>\n",
       "      <td>-</td>\n",
       "      <td>2.7</td>\n",
       "      <td>2020-08-10 15:40:29</td>\n",
       "      <td>A02</td>\n",
       "      <td>None</td>\n",
       "    </tr>\n",
       "  </tbody>\n",
       "</table>\n",
       "</div>"
      ],
      "text/plain": [
       "                     LogID  AssayName   SampleNumber  PlateName  \\\n",
       "InstrumentDateTime                                                \n",
       "2020-08-10 15:40:09     88  Pool_Cell  V000120089530  B05300593   \n",
       "2020-08-10 15:40:09     89  Pool_Cell  V000120089531  B05300593   \n",
       "2020-08-10 15:40:09     90  Pool_Cell  V000120089532  B05300593   \n",
       "2020-08-10 15:40:09     91  Pool_Cell  V000120089533  B05300593   \n",
       "2020-08-10 15:40:09     92  Pool_Cell  V000120089534  B05300593   \n",
       "\n",
       "                          AssayType   Result1 Result2 Result5 Pattern1  \\\n",
       "InstrumentDateTime                                                       \n",
       "2020-08-10 15:40:09  Blood Grouping  Negative     NaN    B053        -   \n",
       "2020-08-10 15:40:09  Blood Grouping  Negative     NaN    B053        -   \n",
       "2020-08-10 15:40:09  Blood Grouping  Negative     NaN    B053        -   \n",
       "2020-08-10 15:40:09  Blood Grouping  Negative     NaN    B053        -   \n",
       "2020-08-10 15:40:09  Blood Grouping  Negative     NaN    B053        -   \n",
       "\n",
       "                    Pattern2  RawDataValue0          CreatedDate WellID  Tags  \n",
       "InstrumentDateTime                                                             \n",
       "2020-08-10 15:40:09        -            3.5  2020-08-10 15:40:29    E01  None  \n",
       "2020-08-10 15:40:09        -            2.7  2020-08-10 15:40:29    F01  None  \n",
       "2020-08-10 15:40:09        -            3.5  2020-08-10 15:40:29    G01  None  \n",
       "2020-08-10 15:40:09        -            2.2  2020-08-10 15:40:29    H01  None  \n",
       "2020-08-10 15:40:09        -            2.7  2020-08-10 15:40:29    A02  None  "
      ]
     },
     "execution_count": 17,
     "metadata": {},
     "output_type": "execute_result"
    }
   ],
   "source": [
    "pool_cell_demand.head()"
   ]
  },
  {
   "cell_type": "code",
   "execution_count": 18,
   "id": "e008865d-f0de-4ec4-b0ce-bb94b383c9fa",
   "metadata": {},
   "outputs": [],
   "source": [
    "def create_dataframe_poolcell(year):\n",
    "    df = pool_cell_demand.loc[year, \"Result1\"]\n",
    "    df_values = df.groupby(by=[df.index.month]).value_counts()\n",
    "    \n",
    "    df_data = []\n",
    "    df_dict = {}\n",
    "    for month in df.index.month.unique():\n",
    "        for index in df_values.xs(month, level=\"InstrumentDateTime\").index:\n",
    "            df_dict[index] = df_values.xs(month, level=\"InstrumentDateTime\")[index]\n",
    "        df_data.append(df_dict)\n",
    "        df_dict = {}\n",
    "        \n",
    "    data = pd.DataFrame(df_data, index=df.index.month.unique())\n",
    "    \n",
    "    return data"
   ]
  },
  {
   "cell_type": "code",
   "execution_count": 19,
   "id": "a3d29f3b-4761-4444-b7bd-e4222593aa06",
   "metadata": {},
   "outputs": [],
   "source": [
    "pool_cell_demand_2021 = create_dataframe_poolcell('2021')\n",
    "pool_cell_demand_2022 = create_dataframe_poolcell('2022')"
   ]
  },
  {
   "cell_type": "code",
   "execution_count": 20,
   "id": "3171128b-8cb0-477a-832d-b88311bbf44a",
   "metadata": {},
   "outputs": [
    {
     "data": {
      "image/png": "[encoded data removed]",
      "text/plain": [
       "<Figure size 1152x864 with 2 Axes>"
      ]
     },
     "metadata": {
      "needs_background": "light"
     },
     "output_type": "display_data"
    }
   ],
   "source": [
    "#color = ['cyan', 'blue', 'pink', 'purple']\n",
    "# Initialise the subplot function using number of rows and columns\n",
    "fig, ax = plt.subplots(2, 1, figsize=(16, 12))\n",
    "fig.suptitle(' Distribution of pool cell in 2021-2022 ', fontsize=20)\n",
    "\n",
    "# abo_rhd_demand_2020.loc[:, \"O+\":\"AB+\"].plot.bar(ax=ax[0])\n",
    "# ax[0].set_title(\"2020\")\n",
    "\n",
    "pool_cell_demand_2021.plot.bar(ax=ax[0], stacked=True, color=color)\n",
    "ax[0].set_title(\"2021\")\n",
    "ax[0].set_xlabel(\"\")\n",
    "\n",
    "pool_cell_demand_2022.plot.bar(ax=ax[1], stacked=True, color=color)\n",
    "ax[1].set_title(\"2022\")\n",
    "ax[1].set_xlabel(\"\")\n",
    "\n",
    "plt.show()"
   ]
  },
  {
   "cell_type": "code",
   "execution_count": null,
   "id": "f441c9f7-1573-4bc6-9844-f16ff6b3f801",
   "metadata": {},
   "outputs": [],
   "source": []
  }
 ],
 "metadata": {
  "kernelspec": {
   "display_name": "Python 3 (ipykernel)",
   "language": "python",
   "name": "python3"
  },
  "language_info": {
   "codemirror_mode": {
    "name": "ipython",
    "version": 3
   },
   "file_extension": ".py",
   "mimetype": "text/x-python",
   "name": "python",
   "nbconvert_exporter": "python",
   "pygments_lexer": "ipython3",
   "version": "3.10.4"
  }
 },
 "nbformat": 4,
 "nbformat_minor": 5
}
