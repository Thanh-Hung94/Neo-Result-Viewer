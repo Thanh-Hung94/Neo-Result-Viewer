{
 "cells": [
  {
   "cell_type": "code",
   "execution_count": 1,
   "id": "07cb8450-6f26-4f83-ae7c-ac99649fed31",
   "metadata": {},
   "outputs": [],
   "source": [
    "import os\n",
    "\n",
    "from sqlalchemy import create_engine\n",
    "\n",
    "import pandas as pd\n",
    "import matplotlib.pyplot as plt"
   ]
  },
  {
   "cell_type": "code",
   "execution_count": 2,
   "id": "b409268f-33e4-4ef2-a493-8d7199db81fb",
   "metadata": {},
   "outputs": [],
   "source": [
    "files_list = os.listdir('.\\data')"
   ]
  },
  {
   "cell_type": "code",
   "execution_count": 3,
   "id": "2b133d59-8b85-4b5b-bf36-7820d94742b5",
   "metadata": {},
   "outputs": [
    {
     "data": {
      "text/plain": [
       "['20200801_Data.mdf',\n",
       " '20200801_Log.ldf',\n",
       " '20200808_20200810_Data.mdf',\n",
       " '20200808_20200810_Log.ldf',\n",
       " '20200811_20200814_Data.mdf',\n",
       " '20200811_20200814_Log.ldf',\n",
       " '20200817_20200821_Data.mdf',\n",
       " '20200817_20200821_Log.ldf',\n",
       " '20200822_20200828-2_Data.mdf',\n",
       " '20200822_20200828-2_Log.ldf']"
      ]
     },
     "execution_count": 3,
     "metadata": {},
     "output_type": "execute_result"
    }
   ],
   "source": [
    "files_list[:10]"
   ]
  },
  {
   "cell_type": "code",
   "execution_count": 4,
   "id": "f4d049de-64b0-4acf-a5af-91daf21e0d12",
   "metadata": {},
   "outputs": [
    {
     "data": {
      "text/plain": [
       "214"
      ]
     },
     "execution_count": 4,
     "metadata": {},
     "output_type": "execute_result"
    }
   ],
   "source": [
    "len(files_list)"
   ]
  },
  {
   "cell_type": "markdown",
   "id": "563a3b69-f9f5-4a6d-a9de-5d07f49266fc",
   "metadata": {},
   "source": [
    "Create a script for attaching mdf files"
   ]
  },
  {
   "cell_type": "code",
   "execution_count": 5,
   "id": "9180d8b0-284d-4731-92c5-0750922953f6",
   "metadata": {},
   "outputs": [],
   "source": [
    "add_db_query = \"\"\n",
    "for i in range(0, len(files_list), 2):\n",
    "    data_file =  files_list[i]\n",
    "    log_file =  files_list[i+1]\n",
    "    add_db_query = add_db_query + f\"\"\"\n",
    "                exec sp_attach_db @dbname = N'{data_file.split(\".\")[0]}', \n",
    "                @filename1=N'D:\\My\\Python\\\\Neo Result Viewer\\data\\{data_file}',\n",
    "                @filename2=N'D:\\My\\Python\\\\Neo Result Viewer\\data\\{log_file}';\n",
    "                \"\"\""
   ]
  },
  {
   "cell_type": "raw",
   "id": "6637fe08-5bcc-4651-801a-71e9f8d7c5fc",
   "metadata": {},
   "source": [
    "# Change this cell to code and run\n",
    "# Copy result to SQL query and run to attach database\n",
    "print(add_db_query)"
   ]
  },
  {
   "cell_type": "raw",
   "id": "5aca09f0-64aa-4ac8-b50e-924f3bb963d7",
   "metadata": {},
   "source": [
    "# For Trusted Connection\n",
    "{Database Type}+{Database Connector}://{login}:{password}@{host}:{port}/{Database}?driver={Driver with spaces replaced with +}"
   ]
  },
  {
   "cell_type": "raw",
   "id": "5b0e8afb-06c6-415a-9a4c-e245bd8ee710",
   "metadata": {},
   "source": [
    "# For Server Connection\n",
    "{Database Type}+{Database Connector}://{host}:{port}/{Database}?driver={Driver with spaces replaced with +}?TrustedConnection=yes"
   ]
  },
  {
   "cell_type": "code",
   "execution_count": 6,
   "id": "270c2dd7-e54b-40ef-ada7-3607e1fdebd5",
   "metadata": {},
   "outputs": [],
   "source": [
    "# Establish database connection\n",
    "# Params\n",
    "database_type = 'mssql'\n",
    "database_connector = 'pyodbc'\n",
    "login = 'sa' \n",
    "password = 'Nh3002'\n",
    "server = 'LAPTOP-U3H8SBSH'\n",
    "database = 'master' \n",
    "driver = 'SQL+Server'\n",
    "\n",
    "engine = create_engine(f\"{database_type}+{database_connector}://{login}:{password}@{server}/{database}?driver={driver}\")"
   ]
  },
  {
   "cell_type": "code",
   "execution_count": 7,
   "id": "2e595472-4ef3-48c5-b146-ded0374d925f",
   "metadata": {},
   "outputs": [],
   "source": [
    "columns = \"LogID, AssayName, SampleNumber, PlateName, AssayType, Result1, Result2, Result5, Pattern1, Pattern2, RawDataValue0, CreatedDate, WellID, Tags, InstrumentDateTime\"\n",
    "table = \"HistorySample\"\n",
    "dbnames = [file.split(\".\")[0] for file in files_list[::2]]\n",
    "\n",
    "for index, dbname in enumerate(dbnames):\n",
    "    if index == 0:\n",
    "        query = (f\"SELECT {columns}\\n\"\n",
    "                 f\"FROM [{dbname}].dbo.[{table}]\\n\")\n",
    "    else:\n",
    "        query = query + \"UNION ALL\\n\" + f\"SELECT {columns}\\n\" + f\"FROM [{dbname}].dbo.[{table}]\\n\""
   ]
  },
  {
   "cell_type": "code",
   "execution_count": 8,
   "id": "0f57554e-6988-4807-b017-b26aecd5d23e",
   "metadata": {},
   "outputs": [],
   "source": [
    "#print(query)"
   ]
  },
  {
   "cell_type": "code",
   "execution_count": 9,
   "id": "8d7f405f-0147-4ec6-9cc0-8ccac68a8c9c",
   "metadata": {},
   "outputs": [],
   "source": [
    "df = pd.read_sql_query(query, engine)"
   ]
  },
  {
   "cell_type": "code",
   "execution_count": 12,
   "id": "dbbde138-5464-4803-b737-d2570e1b3bb0",
   "metadata": {},
   "outputs": [],
   "source": [
    "df.to_csv(\"raw_data.csv\", index=False)"
   ]
  },
  {
   "cell_type": "code",
   "execution_count": null,
   "id": "e98c1f4c-1a7e-4d0d-8d81-e791c9addd52",
   "metadata": {},
   "outputs": [],
   "source": []
  },
  {
   "cell_type": "raw",
   "id": "e360cf3b-1637-4318-990b-acc6cdc0ffe4",
   "metadata": {},
   "source": []
  },
  {
   "cell_type": "code",
   "execution_count": null,
   "id": "04ddb353-ff04-4f02-862f-28c131ee6d7f",
   "metadata": {},
   "outputs": [],
   "source": []
  },
  {
   "cell_type": "code",
   "execution_count": null,
   "id": "ada4f5c3-2c2f-4093-9057-7d5422d74147",
   "metadata": {},
   "outputs": [],
   "source": []
  },
  {
   "cell_type": "code",
   "execution_count": null,
   "id": "22912da1-d8b1-4552-906f-0e62b2af0227",
   "metadata": {},
   "outputs": [],
   "source": []
  },
  {
   "cell_type": "code",
   "execution_count": null,
   "id": "146c3b2c-4087-4d3a-ba6b-56d9e0b71ef4",
   "metadata": {},
   "outputs": [],
   "source": []
  },
  {
   "cell_type": "code",
   "execution_count": null,
   "id": "40ff61f6-89d1-4990-85c4-8a4ed7107975",
   "metadata": {},
   "outputs": [],
   "source": []
  },
  {
   "cell_type": "code",
   "execution_count": null,
   "id": "d9df5dcf-1019-4d89-bffc-22195686ebe9",
   "metadata": {},
   "outputs": [],
   "source": []
  }
 ],
 "metadata": {
  "kernelspec": {
   "display_name": "Python 3 (ipykernel)",
   "language": "python",
   "name": "python3"
  },
  "language_info": {
   "codemirror_mode": {
    "name": "ipython",
    "version": 3
   },
   "file_extension": ".py",
   "mimetype": "text/x-python",
   "name": "python",
   "nbconvert_exporter": "python",
   "pygments_lexer": "ipython3",
   "version": "3.10.4"
  }
 },
 "nbformat": 4,
 "nbformat_minor": 5
}
